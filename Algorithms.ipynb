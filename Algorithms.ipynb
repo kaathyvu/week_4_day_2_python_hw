{
 "cells": [
  {
   "cell_type": "markdown",
   "metadata": {},
   "source": [
    "# Cl"
   ]
  },
  {
   "cell_type": "markdown",
   "metadata": {},
   "source": [
    "## Tasks Today:\n",
    " \n",
    "1) <b>In-Place Algorithms</b> <br>\n",
    " &nbsp;&nbsp;&nbsp;&nbsp; a) Syntax <br>\n",
    " &nbsp;&nbsp;&nbsp;&nbsp; a) Out of Place Algorithm <br>\n",
    " &nbsp;&nbsp;&nbsp;&nbsp; b) In-Class Exercise #1 <br>\n",
    "2) <b>Two Pointers</b> <br>\n",
    "3) <b>Linked Lists</b> <br>\n",
    "4) <b>Merge Sort</b> <br>\n",
    " &nbsp;&nbsp;&nbsp;&nbsp; a) Video on Algorithms <br>\n",
    " &nbsp;&nbsp;&nbsp;&nbsp; b) How it Works <br>\n",
    "5) <b>Exercises</b> <br>\n",
    " &nbsp;&nbsp;&nbsp;&nbsp; a) Exercise #1 - Reverse a List in Place Using an In-Place Algorithm <br>\n",
    " &nbsp;&nbsp;&nbsp;&nbsp; b) Exercise #2 - Find Distinct Words <br>\n",
    " &nbsp;&nbsp;&nbsp;&nbsp; c) Exercise #3 - Write a program to implement a Linear Search Algorithm. <br>"
   ]
  },
  {
   "cell_type": "markdown",
   "metadata": {},
   "source": [
    "## In-Place Algorithms"
   ]
  },
  {
   "cell_type": "markdown",
   "metadata": {},
   "source": [
    "#### Syntax"
   ]
  },
  {
   "cell_type": "code",
   "execution_count": 13,
   "metadata": {},
   "outputs": [
    {
     "name": "stdout",
     "output_type": "stream",
     "text": [
      "Before swap: [20, 4, 10]\n",
      "After swap: [20, 10, 4]\n"
     ]
    }
   ],
   "source": [
    "# var[i], var[j] = var[j], var[i]\n",
    "# Sometimes known as a swap algorithm\n",
    "# This happens in place meaning it alters the original list\n",
    "\n",
    "# x, y, z hold the positions of the index\n",
    "def swap(alist, x, y, z):\n",
    "      #2=10    #0=20     #1=4        4=#2      20=#0     10=#2\n",
    "    alist[x], alist[y], alist[z] = alist[z], alist[y], alist[x]\n",
    "    # Take note that x and z switch places, but y stays in the same spot\n",
    "    return alist\n",
    "\n",
    "          #0   #1  #2\n",
    "my_list = [20, 4, 10]  \n",
    "# our function above switches the position of index 1 and 2, so that's why 4 & 10 are switched\n",
    "# however, index 0 stays in the same spot, so that's why 20 does not move\n",
    "print(f\"Before swap: {my_list}\")  \n",
    "print(f\"After swap: {swap(my_list, 2, 0, 1)}\") \n",
    "# 2, 0, and 1 refer to the positions\n",
    "# "
   ]
  },
  {
   "cell_type": "code",
   "execution_count": 6,
   "metadata": {},
   "outputs": [
    {
     "name": "stdout",
     "output_type": "stream",
     "text": [
      "Before swap: [16, 7, 8]\n",
      "After swap: [7, 16, 8]\n"
     ]
    }
   ],
   "source": [
    "def swap(alist, x, y, z):\n",
    "      #1=7     #0=16     #2=8        16=#1     7=#0     #2=8\n",
    "    alist[x], alist[y], alist[z] = alist[y], alist[x], alist[z]\n",
    "    # Take note that x and y switch places, but z stays in same spot\n",
    "    return alist\n",
    "\n",
    "my_list = [16, 7, 8]\n",
    "print(f\"Before swap: {my_list}\")\n",
    "print(f\"After swap: {swap(my_list, 1, 0, 2)}\")"
   ]
  },
  {
   "cell_type": "code",
   "execution_count": 7,
   "metadata": {},
   "outputs": [
    {
     "name": "stdout",
     "output_type": "stream",
     "text": [
      "Before swap: [12, 5]\n",
      "After swap: [5, 12]\n"
     ]
    }
   ],
   "source": [
    "def swap(alist, x, y):\n",
    "    alist[x], alist[y] = alist[y], alist[x]\n",
    "    return alist\n",
    "\n",
    "my_list = [12, 5]\n",
    "print(f\"Before swap: {my_list}\")\n",
    "print(f\"After swap: {swap(my_list, 1, 0)}\")"
   ]
  },
  {
   "cell_type": "markdown",
   "metadata": {},
   "source": [
    "#### Out of Place Algorithm"
   ]
  },
  {
   "cell_type": "code",
   "execution_count": 11,
   "metadata": {},
   "outputs": [
    {
     "name": "stdout",
     "output_type": "stream",
     "text": [
      "[10, 4, 20]\n",
      "['a', 'a', 'a', 'a']\n",
      "Before: ['a', 'b', 'c', 'd']\n",
      "After ['d', 'c', 'b', 'a']\n"
     ]
    }
   ],
   "source": [
    "# Out of place creates a new list or a list copy to another place in memory\n",
    "# This does not swap -- we are reversing the list completely while also making a copy\n",
    "\n",
    "my_list = [20, 4, 10]\n",
    "my_list_copy = my_list[::-1]\n",
    "print(my_list_copy)\n",
    "\n",
    "# Longhanded way of reversing a list\n",
    "arr = ['a', 'b', 'c', 'd']\n",
    "new_arr = ['a']*len(arr)\n",
    "print(new_arr)\n",
    "print(\"Before:\", arr)\n",
    "length = len(arr) - 1 # minus 1 because since the values are all a, we only need to change 3 values to b, c, d\n",
    "\n",
    "for i in range(length): # length = 3, so range of 3 = 0, 1, 2\n",
    "    new_arr[i] = arr[length-i]\n",
    "    # new_arr[0] = arr[3-0] = arr[3] = d\n",
    "    # new_arr[1] = arr[3-1] = arr[2] = c\n",
    "    # new_arr[2] = arr[3-2] = arr[1] = b\n",
    "arr = new_arr\n",
    "print(\"After\", arr)"
   ]
  },
  {
   "cell_type": "markdown",
   "metadata": {},
   "source": [
    "#### In-Class Exercise #1 <br>\n",
    "<p>Write a function that takes in four arguments (list, index1, index2, index3), and swaps those three positions in the list passed in.</p>"
   ]
  },
  {
   "cell_type": "code",
   "execution_count": 29,
   "metadata": {},
   "outputs": [
    {
     "name": "stdout",
     "output_type": "stream",
     "text": [
      "Before: [10, 4, 3, 8, 4, 2, 6]\n",
      "After: [3, 4, 10, 8, 4, 2, 6]\n"
     ]
    }
   ],
   "source": [
    "l_1 = [10, 4, 3, 8, 4, 2, 6]\n",
    "\n",
    "def swap(arr, index1, index2, index3):\n",
    "      #0 = 10      #1 = 4        #2 = 3       #2 = 10      #1 = 4       #0 = 3\n",
    "    arr[index1], arr[index2], arr[index3] = arr[index3], arr[index2], arr[index1]\n",
    "    return arr\n",
    "\n",
    "print(f\"Before: {l_1}\")\n",
    "print(f\"After: {swap(l_1, 0,1,2)}\")\n"
   ]
  },
  {
   "cell_type": "code",
   "execution_count": 24,
   "metadata": {},
   "outputs": [
    {
     "name": "stdout",
     "output_type": "stream",
     "text": [
      "Before: [10, 4, 3, 8, 4, 2, 6]\n",
      "After: [10, 4, 4, 8, 2, 3, 6]\n"
     ]
    }
   ],
   "source": [
    "l_1 = [10, 4, 3, 8, 4, 2, 6]\n",
    "\n",
    "def swap(alist, x, y, z):\n",
    "     #5=2      #4=4      #2 =3      3 = #5    2 = #4   4 = #2    \n",
    "    alist[x], alist[y], alist[z] = alist[z], alist[x], alist[y]\n",
    "    return alist\n",
    "\n",
    "print(f\"Before: {l_1}\")\n",
    "print(f\"After: {swap(l_1, 5,4,2)}\")\n"
   ]
  },
  {
   "cell_type": "markdown",
   "metadata": {},
   "source": [
    "## Two Pointers"
   ]
  },
  {
   "cell_type": "markdown",
   "metadata": {},
   "source": [
    "#### Syntax"
   ]
  },
  {
   "cell_type": "code",
   "execution_count": 18,
   "metadata": {},
   "outputs": [
    {
     "name": "stdout",
     "output_type": "stream",
     "text": [
      "[1, 2, 3, 12, 9, 8, 4, 11, 22]\n"
     ]
    },
    {
     "data": {
      "text/plain": [
       "[22, 11, 4, 8, 9, 12, 3, 2, 1]"
      ]
     },
     "execution_count": 18,
     "metadata": {},
     "output_type": "execute_result"
    }
   ],
   "source": [
    "# alist[left], alist[right] = alist[right], alist[left]\n",
    "# Use two pointers to swap. You can use a while loop in most cases\n",
    "\n",
    "my_list2 = [1, 2, 3, 12, 9, 8, 4, 11, 22]\n",
    "def twoPointers(alist):\n",
    "    # Creating pointer for the list\n",
    "    left = 0 # This is our left pointer, which means index 0, starting from the left side\n",
    "    right = len(alist) - 1 # This is our right pointer\n",
    "    while left <= right:\n",
    "        alist[left], alist[right] = alist[right], alist[left]\n",
    "        left+=1\n",
    "        right-=1\n",
    "    return alist\n",
    "\n",
    "print(my_list2)\n",
    "twoPointers(my_list2)"
   ]
  },
  {
   "cell_type": "code",
   "execution_count": 19,
   "metadata": {},
   "outputs": [
    {
     "name": "stdout",
     "output_type": "stream",
     "text": [
      "[2, 5, 6, 3, 8, 9, 12, 22, 34, 10]\n"
     ]
    },
    {
     "data": {
      "text/plain": [
       "[2, 5, 6, 3, 8, 9, 12, 22, 34, 10]"
      ]
     },
     "execution_count": 19,
     "metadata": {},
     "output_type": "execute_result"
    }
   ],
   "source": [
    "my_list3 = [2,5,6,3,8,9,12,22,34,10]\n",
    "def twoPointers(alist):\n",
    "    left = 0\n",
    "    right = len(alist) - 1\n",
    "    while left <= right:\n",
    "        alist[left], alist[right] = alist[left], alist[right]\n",
    "        left+=1\n",
    "        right-=1\n",
    "    return alist\n",
    "\n",
    "print(my_list3)\n",
    "twoPointers(my_list3)"
   ]
  },
  {
   "cell_type": "markdown",
   "metadata": {},
   "source": [
    "#### Video of Algorithms <br>\n",
    "<p>Watch the video about algorithms.</p>\n",
    "\n",
    "https://www.youtube.com/watch?v=Q9HjeFD62Uk\n",
    "\n",
    "https://www.youtube.com/watch?v=kPRA0W1kECg\n",
    "\n",
    "https://www.youtube.com/watch?v=ZZuD6iUe3Pc"
   ]
  },
  {
   "cell_type": "markdown",
   "metadata": {},
   "source": [
    "# Sorting Algorithms"
   ]
  },
  {
   "cell_type": "code",
   "execution_count": null,
   "metadata": {},
   "outputs": [],
   "source": [
    "#https://www.freecodecamp.org/news/big-o-cheat-sheet-time-complexity-chart/#:~:text=What%20is%20Big%20O%3F,as%20the%20input%20size%20grows.\n",
    "\n",
    "# O(1) aka Constant time = EXCELLENT time\n",
    "# Done very quickly (almost instantly) and doesn't have to traverse anything in order to complete\n",
    "# Accessing an arr is constant time\n",
    "arr = [1, 2, 3, 4]\n",
    "print(arr[0])\n",
    "\n",
    "# O(n) aka Linear time = GOOD/FAIR time\n",
    "# Checking membership or using a for loop is linear time\n",
    "if 2 in arr:\n",
    "    print(True)\n",
    "    \n",
    "# O(n log n) = BAD time \n",
    "# Time complexity increases (slightly) depending on the contents of the list as the length of the list grows\n",
    "arr2 = [1,5,6,8,4]\n",
    "arr2.sort()\n",
    "sorted_arr2 = sorted(arr2)\n",
    "\n",
    "# O(n^2) aka Quadratic = HORRIBLE time\n",
    "# Looping through one list and checking membership in another list\n",
    "# Double for loops (or basically any nested linear operations are going to increase time complexity exponentially)\n",
    "# Time increases exponentially as the list grows\n",
    "arr = [1, 2, 3, 4]\n",
    "arr2 = [1, 5, 6, 8, 4]\n",
    "for x in arr:\n",
    "    if x in arr2:\n",
    "        print(x)"
   ]
  },
  {
   "cell_type": "markdown",
   "metadata": {},
   "source": [
    "#### Bubble Sort\n",
    "\n",
    "Worst Case: O(n^2) Time - O(1) Space"
   ]
  },
  {
   "cell_type": "code",
   "execution_count": null,
   "metadata": {},
   "outputs": [],
   "source": [
    "# Time Complexity - the number of actions an operation has takes an amount of time to perform\n",
    "#    ... so more actions = more time\n",
    "\n",
    "# .count() = linear\n",
    "# .append() = constant\n",
    "# .sort() or sorted() = O(n log n)\n",
    "# .pop() = constant if we are always removing the last item in a list\n",
    "# .pop(index) = linear because it has to traverse the list to remove the given index"
   ]
  },
  {
   "cell_type": "code",
   "execution_count": 31,
   "metadata": {},
   "outputs": [
    {
     "data": {
      "text/plain": [
       "[1, 22, 34, 44, 55, 66, 88, 100]"
      ]
     },
     "execution_count": 31,
     "metadata": {},
     "output_type": "execute_result"
    }
   ],
   "source": [
    "# Best Case O(n) - Linear\n",
    "# Worst Case O(n^2) - Quadratic\n",
    "# After each pass, the largest number will reach its final position\n",
    "# https://www.hackerearth.com/practice/algorithms/sorting/bubble-sort/visualize/\n",
    "\n",
    "my_list = [22, 55, 88, 44, 1, 100, 34, 66]\n",
    "\n",
    "def swap(i, j, arr):\n",
    "    arr[i], arr[j] = arr[j], arr[i]\n",
    "    \n",
    "def bubblesort(arr):\n",
    "    isSorted = False # This sets a flag that the arr is not sorted\n",
    "    while not isSorted: # This is basically saying while isSorted == False\n",
    "        isSorted = True\n",
    "        for index in range(len(arr)-1):\n",
    "            if arr[index] > arr[index+1]:\n",
    "                swap(index, index+1, arr)\n",
    "                isSorted = False\n",
    "    return arr\n",
    "\n",
    "bubblesort(my_list)"
   ]
  },
  {
   "cell_type": "markdown",
   "metadata": {},
   "source": [
    "##### Insertion Sort\n",
    "\n",
    "Worst Case: O(n^2) time - O(1)space"
   ]
  },
  {
   "cell_type": "code",
   "execution_count": 35,
   "metadata": {},
   "outputs": [
    {
     "data": {
      "text/plain": [
       "[1, 22, 34, 44, 55, 66, 88, 100]"
      ]
     },
     "execution_count": 35,
     "metadata": {},
     "output_type": "execute_result"
    }
   ],
   "source": [
    "# Insertion sort is like the opposite of bubble sort\n",
    "# After each pass, the smallest number will reach its final position\n",
    "# https://www.hackerearth.com/practice/algorithms/sorting/insertion-sort/visualize/\n",
    "    \n",
    "my_list = [22, 55, 88, 44, 1, 100, 34, 66]\n",
    "\n",
    "def swap(i, j, arr):\n",
    "    arr[i], arr[j] = arr[j], arr[i]\n",
    "\n",
    "def insertionSort(arr):\n",
    "    for i in range(1, len(arr)): # This considers the 0 index to be sorted, however we will still check\n",
    "        # Creating a check so we don't go past the 0 index aka we don't go out of bounds\n",
    "        j = i # (and i = 1, so j = 1)\n",
    "        while j > 0 and arr[j] < arr[j-1]:\n",
    "            swap(j, j-1, arr)\n",
    "            j-=1\n",
    "    return arr\n",
    "\n",
    "insertionSort(my_list)"
   ]
  },
  {
   "cell_type": "markdown",
   "metadata": {},
   "source": [
    "## Merge Sort"
   ]
  },
  {
   "cell_type": "markdown",
   "metadata": {},
   "source": [
    "#### How it Works"
   ]
  },
  {
   "cell_type": "code",
   "execution_count": 38,
   "metadata": {},
   "outputs": [
    {
     "name": "stdout",
     "output_type": "stream",
     "text": [
      "[18, 6, 2, 19, 1]\n",
      "Splitting.... [18, 6, 2, 19, 1]\n",
      "Splitting.... [18, 6]\n",
      "Splitting.... [18]\n",
      "Merging:  [18]\n",
      "Splitting.... [6]\n",
      "Merging:  [6]\n",
      "Merging:  [6, 18]\n",
      "Splitting.... [2, 19, 1]\n",
      "Splitting.... [2]\n",
      "Merging:  [2]\n",
      "Splitting.... [19, 1]\n",
      "Splitting.... [19]\n",
      "Merging:  [19]\n",
      "Splitting.... [1]\n",
      "Merging:  [1]\n",
      "Merging:  [1, 19]\n",
      "Merging:  [1, 2, 19]\n",
      "Merging:  [1, 2, 6, 18, 19]\n"
     ]
    },
    {
     "data": {
      "text/plain": [
       "[1, 2, 6, 18, 19]"
      ]
     },
     "execution_count": 38,
     "metadata": {},
     "output_type": "execute_result"
    }
   ],
   "source": [
    "# https://www.hackerearth.com/practice/algorithms/sorting/merge-sort/visualize/\n",
    "\n",
    "# Step 1: Split everything into its own group into equal parts (divide in half until a group only has 1 element)\n",
    "# Step 2: From the left to right, merge two groups together\n",
    "# Step 3: While merging, place each item in the correct order within the merged group\n",
    "# Step 4: Continue steps 3 to 4 until only one group is left\n",
    "\n",
    "from random import randint\n",
    "# Generate a random list of 5 numbers between 0 to 20\n",
    "nums = [randint(0,20) for i in range(5)]\n",
    "print(nums)\n",
    "\n",
    "# Merge sort function\n",
    "def merge_sort(alist):\n",
    "    print(\"Splitting....\", alist)\n",
    "    \n",
    "    # Step 1: Divide array into equal parts (as much as possible)\n",
    "    if len(alist) > 1:\n",
    "        mid = len(alist) // 2 # use floor division so if it's an odd length, it will round down to nearest whole number\n",
    "        lefthalf = alist[:mid]\n",
    "        righthalf = alist[mid:]\n",
    "        \n",
    "        # Recurisvely call mergeSort to perform splits until len(alist) == 1\n",
    "        merge_sort(lefthalf)\n",
    "        merge_sort(righthalf)\n",
    "        \n",
    "        #Index pointers for our list\n",
    "        l = 0 # Pointer for left half\n",
    "        r = 0 # Pointer for right half\n",
    "        m = 0 # Pointer for main array\n",
    "        \n",
    "    # Step 2: Compare the lefthalf with righthalf\n",
    "        while l < len(lefthalf) and r < len(righthalf):\n",
    "            if lefthalf[l] < righthalf[r]:\n",
    "                alist[m] = lefthalf[l]         # Merge to 'main' array directly above\n",
    "                l+=1\n",
    "            else: # aka if righthalf is less than lefthalf\n",
    "                alist[m] = righthalf[r]        # Merge to 'main' array directly above\n",
    "                r+=1\n",
    "            m+=1\n",
    "            \n",
    "    #Step 3: While merging, place items in correct position\n",
    "        while l < len(lefthalf):\n",
    "            alist[m] = lefthalf[l]\n",
    "            l += 1\n",
    "            m += 1\n",
    "        while r < len(righthalf):\n",
    "            alist[m] = righthalf[r]\n",
    "            r += 1\n",
    "            m += 1\n",
    "    print(\"Merging: \", alist)\n",
    "    return alist\n",
    "\n",
    "merge_sort(nums)"
   ]
  },
  {
   "cell_type": "markdown",
   "metadata": {},
   "source": [
    "# Binary Search\n",
    "\n",
    "The Binary Search algorithm works by finding the number in the middle of a given array and comparing it to the target. Given that the array is sorted\n",
    "\n",
    "* The worst case run time for this algorithm is `O(log(n))`"
   ]
  },
  {
   "cell_type": "code",
   "execution_count": 40,
   "metadata": {},
   "outputs": [
    {
     "data": {
      "text/plain": [
       "'The index is...1'"
      ]
     },
     "execution_count": 40,
     "metadata": {},
     "output_type": "execute_result"
    }
   ],
   "source": [
    "# Less == left\n",
    "# Greater == right\n",
    "# In order for binary search to work, the list must be sorted\n",
    "\n",
    "def bin_helper(arr, target, left, right):\n",
    "    while left <= right:\n",
    "        middle = (left + right) // 2\n",
    "        potential_match = arr[middle]\n",
    "        if target == potential_match:\n",
    "            return f\"The index is...{middle}\"\n",
    "        elif target < potential_match:\n",
    "            right = middle-1\n",
    "        else:\n",
    "            left = middle+1\n",
    "    return -1\n",
    "\n",
    "def binary_search(arr, target):\n",
    "    return bin_helper(arr, target, 0, len(arr)-1)\n",
    "\n",
    "binary_search([22,44,55,66,88,100], 44)"
   ]
  },
  {
   "cell_type": "markdown",
   "metadata": {},
   "source": [
    "# Exercises"
   ]
  },
  {
   "cell_type": "markdown",
   "metadata": {},
   "source": [
    "### Exercise #1 <br>\n",
    "<p>Reverse the list below in-place using an in-place algorithm.<br>For extra credit: Reverse the strings at the same time.</p>"
   ]
  },
  {
   "cell_type": "code",
   "execution_count": 91,
   "metadata": {},
   "outputs": [
    {
     "name": "stdout",
     "output_type": "stream",
     "text": [
      "before swap: ['this', 'is', 'a', 'sentence', '.']\n",
      "after swap: ['.', 'ecnetnes', 'a', 'si', 'siht']\n",
      "before swap: ['this', 'is', 'a', 'sentence', '.', 'here', 'are', 'some', 'extra', 'words']\n",
      "after swap: ['sdrow', 'artxe', 'emos', 'era', 'ereh', '.', 'ecnetnes', 'a', 'si', 'siht']\n"
     ]
    }
   ],
   "source": [
    "# this uses swap algorithm\n",
    "# extra credit: Reverse the strings at the same time.\n",
    "# extra extra credit will be if you can figure out the function for a list of ANY size. Not just this guy\n",
    "\n",
    "words1 = ['this' , 'is', 'a', 'sentence', '.']\n",
    "words2 = ['this' , 'is', 'a', 'sentence', '.', 'here', 'are', 'some', 'extra', 'words']\n",
    "\n",
    "def string_reverse(string):\n",
    "    new_str = \"\"\n",
    "    for letter in string:\n",
    "        new_str = letter + new_str\n",
    "    return new_str\n",
    "\n",
    "def swap(arr):\n",
    "    left = 0\n",
    "    right = len(arr)-1\n",
    "    while left <= right:\n",
    "        arr[left], arr[right] = arr[right], arr[left]\n",
    "        left+=1\n",
    "        right-=1\n",
    "    \n",
    "    for i in range(len(arr)):\n",
    "        arr[i] = string_reverse(arr[i])\n",
    "\n",
    "    return arr\n",
    "\n",
    "print(\"before swap:\", words1)\n",
    "print(\"after swap:\", swap(words1))\n",
    "print(\"before swap:\", words2)\n",
    "print(\"after swap:\", swap(words2))"
   ]
  },
  {
   "cell_type": "markdown",
   "metadata": {},
   "source": [
    "### Exercise #2 <br>\n",
    "<p>Create a function that counts how many distinct words are in the string below, then outputs a dictionary with the words as the key and the value as the amount of times that word appears in the string.<br>Should output:<br>{'a': 5,<br>\n",
    " 'abstract': 1,<br>\n",
    " 'an': 3,<br>\n",
    " 'array': 2, ... etc...</p>"
   ]
  },
  {
   "cell_type": "code",
   "execution_count": 89,
   "metadata": {},
   "outputs": [
    {
     "data": {
      "text/plain": [
       "{'a': 5,\n",
       " 'abstract': 1,\n",
       " 'an': 3,\n",
       " 'array': 2,\n",
       " 'associative': 1,\n",
       " 'be': 1,\n",
       " 'buckets': 1,\n",
       " 'can': 2,\n",
       " 'compute': 1,\n",
       " 'computing,': 1,\n",
       " 'data': 2,\n",
       " 'desired': 1,\n",
       " 'found': 1,\n",
       " 'from': 1,\n",
       " 'function': 1,\n",
       " 'hash': 4,\n",
       " 'implements': 1,\n",
       " 'in': 1,\n",
       " 'index': 1,\n",
       " 'into': 1,\n",
       " 'is': 1,\n",
       " 'keys': 1,\n",
       " 'map': 2,\n",
       " 'of': 1,\n",
       " 'or': 1,\n",
       " 'slots': 1,\n",
       " 'structure': 2,\n",
       " 'table': 2,\n",
       " 'that': 1,\n",
       " 'the': 1,\n",
       " 'to': 2,\n",
       " 'type,': 1,\n",
       " 'uses': 1,\n",
       " 'value': 1,\n",
       " 'values.': 1,\n",
       " 'which': 2}"
      ]
     },
     "execution_count": 89,
     "metadata": {},
     "output_type": "execute_result"
    }
   ],
   "source": [
    "a_text = 'In computing, a hash table hash map is a data structure which implements \\\n",
    "an associative array abstract data type, a structure that can map keys to values. A \\\n",
    "hash table uses a hash function to compute an index into an array of buckets or slots \\\n",
    "from which the desired value can be found'\n",
    "\n",
    "def count_words(string):\n",
    "    string_dict = {}\n",
    "    string_list = sorted(string.lower().split())\n",
    "    for word in string_list:\n",
    "        if word not in string_dict:\n",
    "            count = 1\n",
    "            string_dict[word] = count\n",
    "        else:\n",
    "            string_dict[word]+=1\n",
    "    return string_dict\n",
    "\n",
    "count_words(a_text)"
   ]
  },
  {
   "cell_type": "markdown",
   "metadata": {},
   "source": [
    "## Exercise #3\n",
    "\n",
    "Write a program to implement a Linear Search Algorithm. Also in a comment, write the Time Complexity of the following algorithm.\n",
    "\n",
    "#### Hint: Linear Searching will require searching a list for a given number. "
   ]
  },
  {
   "cell_type": "code",
   "execution_count": 86,
   "metadata": {},
   "outputs": [
    {
     "name": "stdout",
     "output_type": "stream",
     "text": [
      "The target (12) is located at index: 7\n",
      "The target (99) is not in the list.\n"
     ]
    }
   ],
   "source": [
    "# Time Complexity for a linear search = O(n)\n",
    "\n",
    "random_arr = [8, 10, 27, 3, 66, 90, 4, 12, 32]\n",
    "\n",
    "def linear_search(arr, target):\n",
    "    for i in range(len(arr)):\n",
    "        if target == arr[i]:\n",
    "            return f\"The target ({target}) is located at index: {i}\"\n",
    "    return f\"The target ({target}) is not in the list.\"\n",
    "            \n",
    "print(linear_search(random_arr, 12))\n",
    "print(linear_search(random_arr, 99))"
   ]
  }
 ],
 "metadata": {
  "kernelspec": {
   "display_name": "Python 3 (ipykernel)",
   "language": "python",
   "name": "python3"
  },
  "language_info": {
   "codemirror_mode": {
    "name": "ipython",
    "version": 3
   },
   "file_extension": ".py",
   "mimetype": "text/x-python",
   "name": "python",
   "nbconvert_exporter": "python",
   "pygments_lexer": "ipython3",
   "version": "3.9.13"
  }
 },
 "nbformat": 4,
 "nbformat_minor": 2
}
